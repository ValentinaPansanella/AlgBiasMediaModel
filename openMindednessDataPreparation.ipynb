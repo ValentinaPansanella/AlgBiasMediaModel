{
 "cells": [
  {
   "cell_type": "code",
   "execution_count": 1,
   "metadata": {},
   "outputs": [],
   "source": [
    "%matplotlib inline\n",
    "import os\n",
    "from datetime import datetime\n",
    "import pickle\n",
    "import numpy as np\n",
    "import tqdm\n",
    "import json\n",
    "from datetime import datetime\n",
    "progress_bar = True\n",
    "import time\n",
    "import openMindednessFunctions as omf\n",
    "import seaborn as sns\n",
    "import numpy as np\n",
    "import matplotlib.pyplot as plt\n",
    "import pandas as pd"
   ]
  },
  {
   "cell_type": "markdown",
   "metadata": {},
   "source": [
    "## Creating dataframe"
   ]
  },
  {
   "cell_type": "markdown",
   "metadata": {},
   "source": [
    "##### functions to adjust dataframe"
   ]
  },
  {
   "cell_type": "code",
   "execution_count": 20,
   "metadata": {},
   "outputs": [],
   "source": [
    "datasetName = \"openMindednessData\"\n",
    "with open(f\"{datasetName}.pickle\", \"rb\") as infile: \n",
    "    data = pickle.load(infile)"
   ]
  },
  {
   "cell_type": "markdown",
   "metadata": {},
   "source": [
    "##### dataframe"
   ]
  },
  {
   "cell_type": "code",
   "execution_count": 21,
   "metadata": {},
   "outputs": [],
   "source": [
    "timestamps = {0: 't0', 1: 't1'}"
   ]
  },
  {
   "cell_type": "code",
   "execution_count": 35,
   "metadata": {},
   "outputs": [],
   "source": [
    "df=pd.DataFrame.from_dict({(dataset_name,timestamp,node): data[dataset_name][timestamp][node]\n",
    "                           for dataset_name in data.keys()\n",
    "                           for timestamp in data[dataset_name].keys() \n",
    "                           for node in data[dataset_name][timestamp].keys()}, \n",
    "                           orient='index')"
   ]
  },
  {
   "cell_type": "code",
   "execution_count": 36,
   "metadata": {
    "scrolled": true
   },
   "outputs": [
    {
     "data": {
      "text/html": [
       "<div>\n",
       "<style scoped>\n",
       "    .dataframe tbody tr th:only-of-type {\n",
       "        vertical-align: middle;\n",
       "    }\n",
       "\n",
       "    .dataframe tbody tr th {\n",
       "        vertical-align: top;\n",
       "    }\n",
       "\n",
       "    .dataframe thead th {\n",
       "        text-align: right;\n",
       "    }\n",
       "</style>\n",
       "<table border=\"1\" class=\"dataframe\">\n",
       "  <thead>\n",
       "    <tr style=\"text-align: right;\">\n",
       "      <th></th>\n",
       "      <th>node</th>\n",
       "      <th>timestamp</th>\n",
       "      <th>dataset</th>\n",
       "      <th>opt</th>\n",
       "      <th>opt1</th>\n",
       "      <th>neighbors</th>\n",
       "      <th>opChange</th>\n",
       "      <th>orientation</th>\n",
       "      <th>neighborsOps</th>\n",
       "      <th>error</th>\n",
       "      <th>estOp</th>\n",
       "      <th>openMindedness</th>\n",
       "      <th>nactiveint</th>\n",
       "    </tr>\n",
       "  </thead>\n",
       "  <tbody>\n",
       "    <tr>\n",
       "      <th>0</th>\n",
       "      <td>020b020a585a564b52545552</td>\n",
       "      <td>0</td>\n",
       "      <td>euro2020</td>\n",
       "      <td>0.944444</td>\n",
       "      <td>0.944444</td>\n",
       "      <td>[7c525a55565a49090d0a0f0e020a0c, 7a49565455525...</td>\n",
       "      <td>0.000000</td>\n",
       "      <td>Republican</td>\n",
       "      <td>[0.9411764705882352, 0.9313725490196078, 0.968...</td>\n",
       "      <td>0.000000</td>\n",
       "      <td>0.944444</td>\n",
       "      <td>0.0</td>\n",
       "      <td>0</td>\n",
       "    </tr>\n",
       "    <tr>\n",
       "      <th>1</th>\n",
       "      <td>020c0a0d0a0b5e</td>\n",
       "      <td>0</td>\n",
       "      <td>euro2020</td>\n",
       "      <td>1.000000</td>\n",
       "      <td>0.666667</td>\n",
       "      <td>[7c5254495c5254575a4b54494f5a]</td>\n",
       "      <td>-0.333333</td>\n",
       "      <td>Republican</td>\n",
       "      <td>[1.0]</td>\n",
       "      <td>0.333333</td>\n",
       "      <td>1.000000</td>\n",
       "      <td>0.0</td>\n",
       "      <td>0</td>\n",
       "    </tr>\n",
       "    <tr>\n",
       "      <th>2</th>\n",
       "      <td>020e0b7a574b5a</td>\n",
       "      <td>0</td>\n",
       "      <td>euro2020</td>\n",
       "      <td>0.333333</td>\n",
       "      <td>0.333333</td>\n",
       "      <td>[565a5f5f5a575e555a090f0c0a]</td>\n",
       "      <td>0.000000</td>\n",
       "      <td>Democrat</td>\n",
       "      <td>[0.5]</td>\n",
       "      <td>0.000000</td>\n",
       "      <td>0.333333</td>\n",
       "      <td>0.0</td>\n",
       "      <td>0</td>\n",
       "    </tr>\n",
       "    <tr>\n",
       "      <th>3</th>\n",
       "      <td>030b724d52</td>\n",
       "      <td>0</td>\n",
       "      <td>euro2020</td>\n",
       "      <td>0.000000</td>\n",
       "      <td>1.000000</td>\n",
       "      <td>[4b5a484a4e525554090b0b0b]</td>\n",
       "      <td>1.000000</td>\n",
       "      <td>Democrat</td>\n",
       "      <td>[1.0]</td>\n",
       "      <td>0.500000</td>\n",
       "      <td>0.500000</td>\n",
       "      <td>1.0</td>\n",
       "      <td>1</td>\n",
       "    </tr>\n",
       "    <tr>\n",
       "      <th>4</th>\n",
       "      <td>030b7a52495a485469030b</td>\n",
       "      <td>0</td>\n",
       "      <td>euro2020</td>\n",
       "      <td>0.333333</td>\n",
       "      <td>0.333333</td>\n",
       "      <td>[7c5e55785a490e, 6f5a4f5a435a0d]</td>\n",
       "      <td>0.000000</td>\n",
       "      <td>Democrat</td>\n",
       "      <td>[0.3333333333333333, 0.75]</td>\n",
       "      <td>0.000000</td>\n",
       "      <td>0.333333</td>\n",
       "      <td>0.0</td>\n",
       "      <td>0</td>\n",
       "    </tr>\n",
       "  </tbody>\n",
       "</table>\n",
       "</div>"
      ],
      "text/plain": [
       "                       node  timestamp   dataset       opt      opt1  \\\n",
       "0  020b020a585a564b52545552          0  euro2020  0.944444  0.944444   \n",
       "1            020c0a0d0a0b5e          0  euro2020  1.000000  0.666667   \n",
       "2            020e0b7a574b5a          0  euro2020  0.333333  0.333333   \n",
       "3                030b724d52          0  euro2020  0.000000  1.000000   \n",
       "4    030b7a52495a485469030b          0  euro2020  0.333333  0.333333   \n",
       "\n",
       "                                           neighbors  opChange orientation  \\\n",
       "0  [7c525a55565a49090d0a0f0e020a0c, 7a49565455525...  0.000000  Republican   \n",
       "1                     [7c5254495c5254575a4b54494f5a] -0.333333  Republican   \n",
       "2                       [565a5f5f5a575e555a090f0c0a]  0.000000    Democrat   \n",
       "3                         [4b5a484a4e525554090b0b0b]  1.000000    Democrat   \n",
       "4                   [7c5e55785a490e, 6f5a4f5a435a0d]  0.000000    Democrat   \n",
       "\n",
       "                                        neighborsOps     error     estOp  \\\n",
       "0  [0.9411764705882352, 0.9313725490196078, 0.968...  0.000000  0.944444   \n",
       "1                                              [1.0]  0.333333  1.000000   \n",
       "2                                              [0.5]  0.000000  0.333333   \n",
       "3                                              [1.0]  0.500000  0.500000   \n",
       "4                         [0.3333333333333333, 0.75]  0.000000  0.333333   \n",
       "\n",
       "   openMindedness  nactiveint  \n",
       "0             0.0           0  \n",
       "1             0.0           0  \n",
       "2             0.0           0  \n",
       "3             1.0           1  \n",
       "4             0.0           0  "
      ]
     },
     "execution_count": 36,
     "metadata": {},
     "output_type": "execute_result"
    }
   ],
   "source": [
    "df.reset_index(level=0, inplace=True)\n",
    "df = df.drop(['level_0'], axis=1)\n",
    "df.reset_index(level=0, inplace=True)\n",
    "df = df.rename(columns={'level_0':'timestamp'})\n",
    "df.reset_index(level=0, inplace=True)\n",
    "df = df.rename(columns={'index': 'node'})\n",
    "df.head()"
   ]
  },
  {
   "cell_type": "markdown",
   "metadata": {},
   "source": [
    "##### saving dataframe as csv"
   ]
  },
  {
   "cell_type": "code",
   "execution_count": 37,
   "metadata": {},
   "outputs": [],
   "source": [
    "df.to_csv('OMdata.csv')"
   ]
  },
  {
   "cell_type": "code",
   "execution_count": 38,
   "metadata": {},
   "outputs": [],
   "source": [
    "df = pd.read_csv('OMdata.csv')"
   ]
  },
  {
   "cell_type": "code",
   "execution_count": 39,
   "metadata": {
    "scrolled": true
   },
   "outputs": [],
   "source": [
    "df = df.drop(labels='Unnamed: 0', axis='columns')"
   ]
  },
  {
   "cell_type": "code",
   "execution_count": 40,
   "metadata": {},
   "outputs": [
    {
     "name": "stdout",
     "output_type": "stream",
     "text": [
      "['Republican' 'Democrat' 'Moderate']\n"
     ]
    }
   ],
   "source": [
    "print(df.orientation.unique())"
   ]
  },
  {
   "cell_type": "code",
   "execution_count": null,
   "metadata": {},
   "outputs": [],
   "source": []
  }
 ],
 "metadata": {
  "@webio": {
   "lastCommId": null,
   "lastKernelId": null
  },
  "kernelspec": {
   "display_name": "Python 3 (ipykernel)",
   "language": "python",
   "name": "python3"
  },
  "language_info": {
   "codemirror_mode": {
    "name": "ipython",
    "version": 3
   },
   "file_extension": ".py",
   "mimetype": "text/x-python",
   "name": "python",
   "nbconvert_exporter": "python",
   "pygments_lexer": "ipython3",
   "version": "3.7.3"
  },
  "vscode": {
   "interpreter": {
    "hash": "ad2bdc8ecc057115af97d19610ffacc2b4e99fae6737bb82f5d7fb13d2f2c186"
   }
  }
 },
 "nbformat": 4,
 "nbformat_minor": 4
}
