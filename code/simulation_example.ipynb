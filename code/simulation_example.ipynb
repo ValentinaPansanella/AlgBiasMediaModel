{
 "cells": [
  {
   "cell_type": "code",
   "execution_count": null,
   "metadata": {},
   "outputs": [],
   "source": [
    "import json\n",
    "import ndlib.models.ModelConfig as mc\n",
    "import ndlib.models.opinions as op\n",
    "import networkx as nx\n",
    "from plots import *\n",
    "from utils import *\n",
    "import aggregateMetrics as am\n",
    "import numpy as np\n",
    "\n",
    "%matplotlib inline"
   ]
  },
  {
   "attachments": {},
   "cell_type": "markdown",
   "metadata": {},
   "source": [
    "# Single Execution"
   ]
  },
  {
   "cell_type": "code",
   "execution_count": null,
   "metadata": {},
   "outputs": [],
   "source": [
    "graph = nx.complete_graph(100)"
   ]
  },
  {
   "cell_type": "code",
   "execution_count": null,
   "metadata": {},
   "outputs": [],
   "source": [
    "#model parameter\n",
    "mu = 0.5\n",
    "epsilon = 0.3\n",
    "gamma = 1.0\n",
    "gamma_media = gamma\n",
    "pm = 0.5\n",
    "k = 3\n",
    "media_op = [0.05, 0.5, 0.95]\n",
    "\n",
    "#simulations parameter\n",
    "max_iterations = 1000\n",
    "sensibility = 0.00001\n",
    "nsteady = 1000\n",
    "nodeStatus = True\n",
    "progressBar = True"
   ]
  },
  {
   "cell_type": "code",
   "execution_count": null,
   "metadata": {},
   "outputs": [],
   "source": [
    "#create model\n",
    "model = op.AlgorithmicBiasMediaModel(graph)\n",
    "\n",
    "#create configuration\n",
    "config = mc.Configuration()\n",
    "config.add_model_parameter(\"mu\", mu)\n",
    "config.add_model_parameter(\"epsilon\", epsilon)\n",
    "config.add_model_parameter(\"gamma\", gamma)\n",
    "config.add_model_parameter(\"gamma_media\", gamma)\n",
    "config.add_model_parameter(\"p\", pm)\n",
    "config.add_model_parameter(\"k\", k)\n",
    "\n",
    "#configure model\n",
    "model.set_initial_status(config)\n",
    "model.set_media_opinions(media_op)\n",
    "\n",
    "#perform iterations untill convergence\n",
    "iterations = model.steady_state(max_iterations=max_iterations, nsteady=nsteady, sensibility=sensibility, node_status=nodeStatus, progress_bar=progressBar)"
   ]
  },
  {
   "cell_type": "code",
   "execution_count": null,
   "metadata": {},
   "outputs": [],
   "source": [
    "plotevolution(iterations)\n",
    "plotdistribution(list(iterations[-1]['status'].values()))"
   ]
  },
  {
   "attachments": {},
   "cell_type": "markdown",
   "metadata": {},
   "source": [
    "# Multiple Runs"
   ]
  },
  {
   "cell_type": "code",
   "execution_count": null,
   "metadata": {},
   "outputs": [],
   "source": [
    "max_iterations = 100\n",
    "nruns = 5"
   ]
  },
  {
   "cell_type": "code",
   "execution_count": null,
   "metadata": {},
   "outputs": [],
   "source": [
    "k = 3\n",
    "epsilons, gammas, pms, media_ops = [0.2, 0.3, 0.4, 0.5], [0.0, 0.5, 1.0, 1.5], [0.0, 0.1, 0.2, 0.3, 0.4, 0.5], [[0.0], [0.5], [0.05, 0.95], [0.05, 0.5, 0.95]]\n",
    "graph = nx.complete_graph(100)"
   ]
  },
  {
   "cell_type": "code",
   "execution_count": null,
   "metadata": {},
   "outputs": [],
   "source": [
    "for epsilon in epsilons:\n",
    "    for gamma in gammas:\n",
    "        for pm in pms:\n",
    "            for media_op in media_ops:\n",
    "                respath = f'../res/'\n",
    "                name = f'e{epsilon}_g{gamma}_pm{pm}_mo{media_op}_maxit{max_iterations}'\n",
    "                final_opinions, final_niter = read_dicts(respath, name)\n",
    "                \n",
    "                for run in range(nruns):\n",
    "                    if str(run) in final_opinions.keys() and str(run) in final_niter.keys(): \n",
    "                        print('run already present. skipping.')\n",
    "                        run += 1\n",
    "                    else:\n",
    "                        print(f'run {run} epsilon = {epsilon} gamma = {gamma} pm = {pm} media_op = {media_op}')    \n",
    "\n",
    "                        #create model\n",
    "                        model = op.AlgorithmicBiasMediaModel(graph)\n",
    "\n",
    "                        #create configuration\n",
    "                        config = mc.Configuration()\n",
    "                        config.add_model_parameter(\"mu\", 0.5)\n",
    "                        config.add_model_parameter(\"epsilon\", epsilon)\n",
    "                        config.add_model_parameter(\"gamma\", gamma)\n",
    "                        config.add_model_parameter(\"gamma_media\", gamma)\n",
    "                        config.add_model_parameter(\"p\", pm)\n",
    "                        config.add_model_parameter(\"k\", len(media_op))\n",
    "\n",
    "                        #configure model\n",
    "                        model.set_initial_status(config)\n",
    "                        model.set_media_opinions(media_op)\n",
    "\n",
    "                        #perform iterations untill convergence\n",
    "                        iterations = model.steady_state(max_iterations=max_iterations, nsteady=1000, sensibility=0.00001, node_status=True, progress_bar=True)\n",
    "\n",
    "                        finalopinions = iterations[-1]['status']\n",
    "                        niter = int(iterations[-1]['iteration'])\n",
    "                        \n",
    "                        final_opinions[run] = finalopinions\n",
    "                        final_niter[run] = niter\n",
    "                        \n",
    "                        write_dicts(respath, name, final_opinions, final_niter)\n",
    "\n",
    "                        plotevolution(iterations, name=name, run=run)\n",
    "                        plotdistribution(list(finalopinions.values()), name=name, run=run)\n"
   ]
  },
  {
   "attachments": {},
   "cell_type": "markdown",
   "metadata": {},
   "source": [
    "# Convergence Analysis"
   ]
  },
  {
   "cell_type": "code",
   "execution_count": null,
   "metadata": {},
   "outputs": [],
   "source": [
    "def import_dicts(path, name):\n",
    "    with open(f'{path}/final_opinions_{name}.json', 'rt') as file:\n",
    "        final_opinions = json.load(file)\n",
    "    with open(f'{path}/final_iterations_{name}.json', 'rt') as file:\n",
    "        final_iterations = json.load(file)\n",
    "    return final_opinions, final_iterations"
   ]
  },
  {
   "cell_type": "code",
   "execution_count": null,
   "metadata": {},
   "outputs": [],
   "source": [
    "epsilons, gammas, pms, media_ops = [0.2], [0.0, 0.5, 1.0, 1.5], [0.0, 0.1, 0.2, 0.3, 0.4, 0.5], [[0.0], [0.5], [0.05, 0.95], [0.05, 0.5, 0.95]]"
   ]
  },
  {
   "cell_type": "code",
   "execution_count": null,
   "metadata": {},
   "outputs": [],
   "source": [
    "max_iterations = 100"
   ]
  },
  {
   "cell_type": "code",
   "execution_count": null,
   "metadata": {},
   "outputs": [],
   "source": [
    "aggregate_metrics = dict()\n",
    "i=0\n",
    "for epsilon in epsilons:\n",
    "    for gamma in gammas:\n",
    "        for pm in pms:\n",
    "            for media_op in media_ops:\n",
    "                respath = f'../res/'\n",
    "                name = f'e{epsilon}_g{gamma}_pm{pm}_mo{media_op}_maxit{max_iterations}'\n",
    "                final_opinions, final_niter = import_dicts(respath, name)\n",
    "\n",
    "                metrics = am.aggregateMetrics(final_opinions, final_niter)\n",
    "                metrics.compute_metrics()\n",
    "\n",
    "                aggregate_metrics[i] = {\n",
    "                        'epsilon': epsilon,\n",
    "                        'gamma': gamma,\n",
    "                        'pm': pm,\n",
    "                        'media_op': media_op,\n",
    "                        'avg_nc': metrics.get_avg_nc(),\n",
    "                        'avg_entr': metrics.get_avg_entr(),\n",
    "                        'avg_pwdist': metrics.get_avg_pwdist(),\n",
    "                        'avg_op': metrics.get_avg_opinion(),\n",
    "                        'avg_nit': metrics.get_avg_nit()\n",
    "                    }\n",
    "                i+=1\n",
    "\n",
    "with open(f'../aggregate/aggregate_metrics.json', 'w') as ofile:\n",
    "    json.dump(aggregate_metrics, ofile)"
   ]
  },
  {
   "cell_type": "code",
   "execution_count": null,
   "metadata": {},
   "outputs": [],
   "source": [
    "with open(f'../aggregate/aggregate_metrics.json', 'r') as ifile:\n",
    "    aggregate_metrics = json.load(ifile)"
   ]
  },
  {
   "cell_type": "code",
   "execution_count": null,
   "metadata": {},
   "outputs": [],
   "source": [
    "import pandas as pd\n",
    "import json\n",
    "\n",
    "# Convert the data into a list of dictionaries\n",
    "rows = []\n",
    "for key, values in aggregate_metrics.items():\n",
    "    row = {'index': int(key)}\n",
    "    for sub_key, sub_values in values.items():\n",
    "        if sub_key in ['epsilon', 'gamma', 'pm', 'media_op']:\n",
    "            row[sub_key] = sub_values\n",
    "        else:\n",
    "            row[sub_key] = sub_values[0]\n",
    "            row['std_' + sub_key] = sub_values[1]\n",
    "    rows.append(row)\n",
    "\n",
    "# Create the DataFrame\n",
    "df = pd.DataFrame(rows)\n",
    "df = df.drop('index', axis=1)"
   ]
  },
  {
   "cell_type": "code",
   "execution_count": null,
   "metadata": {},
   "outputs": [],
   "source": [
    "df.to_csv('../aggregate/results.csv', index=False)"
   ]
  },
  {
   "attachments": {},
   "cell_type": "markdown",
   "metadata": {},
   "source": [
    "# Aggregate Plots"
   ]
  },
  {
   "cell_type": "code",
   "execution_count": null,
   "metadata": {},
   "outputs": [],
   "source": [
    "df = pd.read_csv('../aggregate/results.csv')"
   ]
  },
  {
   "cell_type": "code",
   "execution_count": null,
   "metadata": {},
   "outputs": [],
   "source": [
    "def hex_to_rgb(value):\n",
    "    '''\n",
    "    Converts hex to rgb colours\n",
    "    value: string of 6 characters representing a hex colour.\n",
    "    Returns: list length 3 of RGB values'''\n",
    "    value = value.strip(\"#\") # removes hash symbol if present\n",
    "    lv = len(value)\n",
    "    return tuple(int(value[i:i + lv // 3], 16) for i in range(0, lv, lv // 3))\n",
    "\n",
    "\n",
    "def rgb_to_dec(value):\n",
    "    '''\n",
    "    Converts rgb to decimal colours (i.e. divides each value by 256)\n",
    "    value: list (length 3) of RGB values\n",
    "    Returns: list (length 3) of decimal values'''\n",
    "    return [v/256 for v in value]\n",
    "\n",
    "def get_continuous_cmap(hex_list, float_list=None):\n",
    "    ''' creates and returns a color map that can be used in heat map figures.\n",
    "        If float_list is not provided, colour map graduates linearly between each color in hex_list.\n",
    "        If float_list is provided, each color in hex_list is mapped to the respective location in float_list. \n",
    "        \n",
    "        Parameters\n",
    "        ----------\n",
    "        hex_list: list of hex code strings\n",
    "        float_list: list of floats between 0 and 1, same length as hex_list. Must start with 0 and end with 1.\n",
    "        \n",
    "        Returns\n",
    "        ----------\n",
    "        colour map'''\n",
    "    rgb_list = [rgb_to_dec(hex_to_rgb(i)) for i in hex_list]\n",
    "    if float_list:\n",
    "        pass\n",
    "    else:\n",
    "        float_list = list(np.linspace(0,1,len(rgb_list)))\n",
    "    cdict = dict()\n",
    "    for num, col in enumerate(['red', 'green', 'blue']):\n",
    "        col_list = [[float_list[i], rgb_list[i][num], rgb_list[i][num]] for i in range(len(float_list))]\n",
    "        cdict[col] = col_list\n",
    "    cmp = LinearSegmentedColormap('my_cmp', segmentdata=cdict, N=256)\n",
    "    return cmp\n",
    "\n",
    "heatmap_hex_list = ['#357db0', '#ce2626']\n",
    "heatmap_cmap=get_continuous_cmap(heatmap_hex_list)"
   ]
  },
  {
   "cell_type": "code",
   "execution_count": null,
   "metadata": {},
   "outputs": [],
   "source": [
    "balanced = df[df['media_op']=='[0.05, 0.5, 0.95]']\n",
    "balanced = balanced.rename(columns={'epsilon':'eps', 'gamma':'gam', 'pm':'p_media'})\n"
   ]
  },
  {
   "cell_type": "code",
   "execution_count": null,
   "metadata": {},
   "outputs": [],
   "source": [
    "balanced"
   ]
  },
  {
   "cell_type": "code",
   "execution_count": null,
   "metadata": {},
   "outputs": [],
   "source": [
    "polarised = df[df['media_op']=='[0.05, 0.95]']\n",
    "polarised = polarised.rename(columns={'epsilon':'eps', 'gamma':'gam', 'pm':'p_media'})\n"
   ]
  },
  {
   "cell_type": "code",
   "execution_count": null,
   "metadata": {},
   "outputs": [],
   "source": [
    "extremist = df[df['media_op']=='[0.0]']\n",
    "extremist = extremist.rename(columns={'epsilon':'eps', 'gamma':'gam', 'pm':'p_media'})\n"
   ]
  },
  {
   "cell_type": "code",
   "execution_count": null,
   "metadata": {},
   "outputs": [],
   "source": [
    "moderate = df[df['media_op']=='[0.5]']\n",
    "moderate = moderate.rename(columns={'epsilon':'eps', 'gamma':'gam', 'pm':'p_media'})\n"
   ]
  },
  {
   "cell_type": "code",
   "execution_count": null,
   "metadata": {},
   "outputs": [],
   "source": [
    "averages = [c for c in df.columns if c.startswith('avg_')]\n",
    "medians = [c for c in df.columns if c.startswith('med_')]"
   ]
  },
  {
   "cell_type": "code",
   "execution_count": null,
   "metadata": {},
   "outputs": [],
   "source": [
    "import os \n",
    "for setting in ['balanced', 'polarised', 'extremist', 'moderate']:\n",
    "    if not os.path.exists(f'../plots/{setting}'):\n",
    "         os.makedirs(f'../plots/{setting}')\n",
    "    for measure in averages:\n",
    "        if not os.path.exists(f'../plots/{setting}/{measure}'):\n",
    "            os.mkdir(f'../plots/{setting}/{measure}')\n",
    "    for measure in medians:\n",
    "        if not os.path.exists(f'../plots/{setting}/{measure}'):\n",
    "                os.mkdir(f'../plots/{setting}/{measure}')"
   ]
  },
  {
   "cell_type": "code",
   "execution_count": null,
   "metadata": {},
   "outputs": [],
   "source": [
    "sns.set(font_scale=2.0)\n",
    "plt.rcParams['font.family']='serif'\n",
    "plt.rcParams['font.weight']='bold'"
   ]
  },
  {
   "cell_type": "code",
   "execution_count": null,
   "metadata": {},
   "outputs": [],
   "source": [
    "#balanced setting\n",
    "setting = 'balanced'\n",
    "df = balanced      \n",
    "for measure in averages:\n",
    "    for eps in sorted(df.eps.unique()):\n",
    "        fig, ax = plt.subplots(figsize=(5, 5), dpi=600)\n",
    "        x = \"p_media\"\n",
    "        y = \"gam\"\n",
    "        data = df[df[\"eps\"]==eps]\n",
    "        d = data.pivot(index=x, columns=y, values=measure)\n",
    "        if max(df[measure]) > 100:\n",
    "            a=sns.heatmap(d, cbar=False, cbar_kws = dict(use_gridspec=False, location=\"top\"), fmt=\".0f\", annot=False, ax = ax, cmap=heatmap_cmap, vmin=min(df[measure]), vmax=max(df[measure]), annot_kws={\n",
    "                'fontsize': 14,\n",
    "                'fontweight': 'bold',\n",
    "                'fontfamily': 'serif'\n",
    "            })\n",
    "        elif max(df[measure]) > 10:\n",
    "            a=sns.heatmap(d, cbar=False, cbar_kws = dict(use_gridspec=False, location=\"top\"), fmt=\".1f\", annot=True, ax = ax, cmap=heatmap_cmap, vmin=min(df[measure]), vmax=max(df[measure]), annot_kws={\n",
    "                'fontsize': 14,\n",
    "                'fontweight': 'bold',\n",
    "                'fontfamily': 'serif'\n",
    "            })\n",
    "        else:\n",
    "            a=sns.heatmap(d, cbar=False, cbar_kws = dict(use_gridspec=False, location=\"top\"), fmt=\".2f\", annot=True, ax = ax, cmap=heatmap_cmap, vmin=min(df[measure]), vmax=max(df[measure]), annot_kws={\n",
    "                'fontsize': 14,\n",
    "                'fontweight': 'bold',\n",
    "                'fontfamily': 'serif'\n",
    "            })\n",
    "        ax.set_xlabel(r'$\\gamma$', fontsize=30, fontfamily='serif')\n",
    "        ax.set_ylabel(r'$p_m$', fontsize=30, fontfamily='serif')\n",
    "        plt.savefig(f\"../plots/{setting}/{measure}/{setting}_{measure}_e{eps}_heatmap.png\", bbox_inches=\"tight\")\n",
    "        plt.close()  \n",
    "\n",
    "#polarised setting\n",
    "setting = 'polarised'\n",
    "df = polarised           \n",
    "for measure in averages:\n",
    "    for eps in sorted(df.eps.unique()):\n",
    "        fig, ax = plt.subplots(figsize=(5, 5), dpi=600)\n",
    "        x = \"p_media\"\n",
    "        y = \"gam\"\n",
    "        data = df[df[\"eps\"]==eps]\n",
    "        d = data.pivot(index=x, columns=y, values=measure)\n",
    "        if max(df[measure]) > 100:\n",
    "            a=sns.heatmap(d, cbar=False, cbar_kws = dict(use_gridspec=False, location=\"top\"), fmt=\".0f\", annot=False, ax = ax, cmap=heatmap_cmap, vmin=min(df[measure]), vmax=max(df[measure]), annot_kws={\n",
    "                'fontsize': 14,\n",
    "                'fontweight': 'bold',\n",
    "                'fontfamily': 'serif'\n",
    "            })\n",
    "        elif max(df[measure]) > 10:\n",
    "            a=sns.heatmap(d, cbar=False, cbar_kws = dict(use_gridspec=False, location=\"top\"), fmt=\".1f\", annot=True, ax = ax, cmap=heatmap_cmap, vmin=min(df[measure]), vmax=max(df[measure]), annot_kws={\n",
    "                'fontsize': 14,\n",
    "                'fontweight': 'bold',\n",
    "                'fontfamily': 'serif'\n",
    "            })\n",
    "        else:\n",
    "            a=sns.heatmap(d, cbar=False, cbar_kws = dict(use_gridspec=False, location=\"top\"), fmt=\".2f\", annot=True, ax = ax, cmap=heatmap_cmap, vmin=min(df[measure]), vmax=max(df[measure]), annot_kws={\n",
    "                'fontsize': 14,\n",
    "                'fontweight': 'bold',\n",
    "                'fontfamily': 'serif'\n",
    "            })\n",
    "        ax.set_xlabel(r'$\\gamma$', fontsize=30, fontfamily='serif')\n",
    "        ax.set_ylabel(r'$p_m$', fontsize=30, fontfamily='serif')\n",
    "        plt.savefig(f\"../plots/{setting}/{measure}/{setting}_{measure}_e{eps}_heatmap.png\", bbox_inches=\"tight\")\n",
    "        plt.close()\n",
    "print('done')      \n",
    "\n",
    "#extremist setting\n",
    "setting = 'extremist'\n",
    "df = extremist          \n",
    "for measure in averages:\n",
    "    for eps in sorted(df.eps.unique()):\n",
    "        fig, ax = plt.subplots(figsize=(5, 5), dpi=600)\n",
    "        x = \"p_media\"\n",
    "        y = \"gam\"\n",
    "        data = df[df[\"eps\"]==eps]\n",
    "        d = data.pivot(index=x, columns=y, values=measure)\n",
    "        if max(df[measure]) > 100:\n",
    "            a=sns.heatmap(d, cbar=False, cbar_kws = dict(use_gridspec=False, location=\"top\"), fmt=\".0f\", annot=False, ax = ax, cmap=heatmap_cmap, vmin=min(df[measure]), vmax=max(df[measure]), annot_kws={\n",
    "                'fontsize': 14,\n",
    "                'fontweight': 'bold',\n",
    "                'fontfamily': 'serif'\n",
    "            })\n",
    "        elif max(df[measure]) > 10:\n",
    "            a=sns.heatmap(d, cbar=False, cbar_kws = dict(use_gridspec=False, location=\"top\"), fmt=\".1f\", annot=True, ax = ax, cmap=heatmap_cmap, vmin=min(df[measure]), vmax=max(df[measure]), annot_kws={\n",
    "                'fontsize': 14,\n",
    "                'fontweight': 'bold',\n",
    "                'fontfamily': 'serif'\n",
    "            })\n",
    "        else:\n",
    "            a=sns.heatmap(d, cbar=False, cbar_kws = dict(use_gridspec=False, location=\"top\"), fmt=\".2f\", annot=True, ax = ax, cmap=heatmap_cmap, vmin=min(df[measure]), vmax=max(df[measure]), annot_kws={\n",
    "                'fontsize': 14,\n",
    "                'fontweight': 'bold',\n",
    "                'fontfamily': 'serif'\n",
    "            })\n",
    "        ax.set_xlabel(r'$\\gamma$', fontsize=30, fontfamily='serif')\n",
    "        ax.set_ylabel(r'$p_m$', fontsize=30, fontfamily='serif')\n",
    "        plt.savefig(f\"../plots/{setting}/{measure}/{setting}_{measure}_e{eps}_heatmap.png\", bbox_inches=\"tight\")\n",
    "        plt.close()\n",
    "print('done')\n",
    "\n",
    "#moderate setting\n",
    "setting = 'moderate'\n",
    "df = moderate          \n",
    "for measure in averages:\n",
    "    for eps in sorted(df.eps.unique()):\n",
    "        fig, ax = plt.subplots(figsize=(5, 5), dpi=600)\n",
    "        x = \"p_media\"\n",
    "        y = \"gam\"\n",
    "        data = df[df[\"eps\"]==eps]\n",
    "        d = data.pivot(index=x, columns=y, values=measure)\n",
    "        if max(df[measure]) > 100:\n",
    "            a=sns.heatmap(d, cbar=False, cbar_kws = dict(use_gridspec=False, location=\"top\"), fmt=\".0f\", annot=False, ax = ax, cmap=heatmap_cmap, vmin=min(df[measure]), vmax=max(df[measure]), annot_kws={\n",
    "                'fontsize': 14,\n",
    "                'fontweight': 'bold',\n",
    "                'fontfamily': 'serif'\n",
    "            })\n",
    "        elif max(df[measure]) > 10:\n",
    "            a=sns.heatmap(d, cbar=False, cbar_kws = dict(use_gridspec=False, location=\"top\"), fmt=\".1f\", annot=True, ax = ax, cmap=heatmap_cmap, vmin=min(df[measure]), vmax=max(df[measure]), annot_kws={\n",
    "                'fontsize': 14,\n",
    "                'fontweight': 'bold',\n",
    "                'fontfamily': 'serif'\n",
    "            })\n",
    "        else:\n",
    "            a=sns.heatmap(d, cbar=False, cbar_kws = dict(use_gridspec=False, location=\"top\"), fmt=\".2f\", annot=True, ax = ax, cmap=heatmap_cmap, vmin=min(df[measure]), vmax=max(df[measure]), annot_kws={\n",
    "                'fontsize': 14,\n",
    "                'fontweight': 'bold',\n",
    "                'fontfamily': 'serif'\n",
    "            })\n",
    "        ax.set_xlabel(r'$\\gamma$', fontsize=30, fontfamily='serif')\n",
    "        ax.set_ylabel(r'$p_m$', fontsize=30, fontfamily='serif')\n",
    "        plt.savefig(f\"../plots/{setting}/{measure}/{setting}_{measure}_e{eps}_heatmap.png\", bbox_inches=\"tight\")\n",
    "        plt.close()\n",
    "print('done')"
   ]
  },
  {
   "cell_type": "code",
   "execution_count": null,
   "metadata": {},
   "outputs": [],
   "source": []
  }
 ],
 "metadata": {
  "kernelspec": {
   "display_name": "env",
   "language": "python",
   "name": "python3"
  },
  "language_info": {
   "codemirror_mode": {
    "name": "ipython",
    "version": 3
   },
   "file_extension": ".py",
   "mimetype": "text/x-python",
   "name": "python",
   "nbconvert_exporter": "python",
   "pygments_lexer": "ipython3",
   "version": "3.8.16"
  },
  "orig_nbformat": 4
 },
 "nbformat": 4,
 "nbformat_minor": 2
}
