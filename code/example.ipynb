{
 "cells": [
  {
   "cell_type": "code",
   "execution_count": null,
   "metadata": {},
   "outputs": [],
   "source": [
    "import ndlib.models.ModelConfig as mc\n",
    "import ndlib.models.opinions as op\n",
    "import networkx as nx\n",
    "from ndlib.viz.mpl.OpinionEvolution import OpinionEvolution\n",
    "from plots import *"
   ]
  },
  {
   "cell_type": "code",
   "execution_count": null,
   "metadata": {},
   "outputs": [],
   "source": [
    "graph = nx.complete_graph(100)"
   ]
  },
  {
   "cell_type": "code",
   "execution_count": null,
   "metadata": {},
   "outputs": [],
   "source": [
    "#model parameter\n",
    "epsilon = 0.3\n",
    "gamma = 1.0\n",
    "gamma_media = gamma\n",
    "pm = 0.5\n",
    "k = 3\n",
    "media_op = [0.05, 0.5, 0.95]\n",
    "\n",
    "#simulations parameter\n",
    "max_iterations = 1000000\n",
    "sensibility = 0.00001\n",
    "nsteady = 1000\n",
    "nodeStatus = True\n",
    "progressBar = True"
   ]
  },
  {
   "cell_type": "code",
   "execution_count": null,
   "metadata": {},
   "outputs": [],
   "source": [
    "#create model\n",
    "model = op.AlgorithmicBiasMediaModel(graph)\n",
    "\n",
    "#create configuration\n",
    "config = mc.Configuration()\n",
    "config.add_model_parameter(\"epsilon\", epsilon)\n",
    "config.add_model_parameter(\"gamma\", gamma)\n",
    "config.add_model_parameter(\"gamma_media\", gamma)\n",
    "config.add_model_parameter(\"p\", pm)\n",
    "config.add_model_parameter(\"k\", k)\n",
    "\n",
    "#configure model\n",
    "model.set_initial_status(config)\n",
    "model.set_media_opinions(media_op)\n",
    "\n",
    "#perform iterations untill convergence\n",
    "iterations = model.steady_state(max_iterations=max_iterations, nsteady=nsteady, sensibility=sensibility, node_status=nodeStatus, progress_bar=progressBar)"
   ]
  },
  {
   "cell_type": "code",
   "execution_count": null,
   "metadata": {},
   "outputs": [],
   "source": [
    "plotevolution(iterations)\n",
    "plotdistribution(list(iterations[-1]['status'].values()))"
   ]
  },
  {
   "cell_type": "code",
   "execution_count": null,
   "metadata": {},
   "outputs": [],
   "source": []
  },
  {
   "cell_type": "code",
   "execution_count": null,
   "metadata": {},
   "outputs": [],
   "source": []
  }
 ],
 "metadata": {
  "kernelspec": {
   "display_name": "env",
   "language": "python",
   "name": "python3"
  },
  "language_info": {
   "codemirror_mode": {
    "name": "ipython",
    "version": 3
   },
   "file_extension": ".py",
   "mimetype": "text/x-python",
   "name": "python",
   "nbconvert_exporter": "python",
   "pygments_lexer": "ipython3",
   "version": "3.7.3"
  },
  "orig_nbformat": 4
 },
 "nbformat": 4,
 "nbformat_minor": 2
}
