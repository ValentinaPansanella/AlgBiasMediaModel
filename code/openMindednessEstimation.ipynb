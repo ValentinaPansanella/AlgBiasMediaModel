{
 "cells": [
  {
   "cell_type": "code",
   "execution_count": 1,
   "metadata": {},
   "outputs": [],
   "source": [
    "import os\n",
    "from datetime import datetime\n",
    "import pickle\n",
    "import numpy as np\n",
    "import tqdm\n",
    "import json\n",
    "from datetime import datetime\n",
    "progress_bar = True\n",
    "import time\n",
    "import dynetx as dn\n",
    "import openMindednessFunctions as omf"
   ]
  },
  {
   "attachments": {},
   "cell_type": "markdown",
   "metadata": {},
   "source": [
    "# Estimating open mindedness distributions + other info"
   ]
  },
  {
   "cell_type": "code",
   "execution_count": 2,
   "metadata": {},
   "outputs": [],
   "source": [
    "def createDataset(t0, tN):\n",
    "    data = {}\n",
    "    for dataset_name in ['euro2020']:\n",
    "        '''\n",
    "        per ogni time step mi ritorna un dizionario nodo: {dizionario con delle info}\n",
    "        '''\n",
    "        data[dataset_name] = {}\n",
    "        timestamps = {0: 't0', 1: 't1'}\n",
    "        t2node2opinions = omf.create_dictionaries(timestamps, '../dataset')\n",
    "        for t in tqdm.tqdm(range(t0, tN)):\n",
    "            data[dataset_name][t] = {}\n",
    "            t1=t+1\n",
    "            g = omf.createGraph('../dataset', timestamps, t)\n",
    "            for v in tqdm.tqdm(g.nodes()):\n",
    "                if v in t2node2opinions[t1].keys():\n",
    "                    opvt = t2node2opinions[t][v]\n",
    "                    opvt1 = t2node2opinions[t1][v]\n",
    "                    neighs = list(g.neighbors(v))\n",
    "                    sortedNeighOps = omf.sortNeighOps(g, v, t, t2node2opinions, opvt)\n",
    "                    eps, err, estOp = omf.estimation(opvt, opvt1, sortedNeighOps)\n",
    "                    orientation = omf.politicalLeaning(opvt) \n",
    "                    nactiveint = len([op for op in sortedNeighOps if op <= eps])\n",
    "                    data[dataset_name][t][v] = {'dataset':dataset_name, 'opt':opvt, 'opt1': opvt1, 'neighbors':neighs, \n",
    "                                                    'opChange':opvt1-opvt, 'orientation':orientation, \n",
    "                                                    'neighborsOps':sortedNeighOps, 'error':err, 'estOp':estOp, \n",
    "                                                    'openMindedness':eps, 'nactiveint':nactiveint}    \n",
    "                    if t > t0:\n",
    "                        try:\n",
    "                            data[dataset_name][t][v]['orientation-1'] = data[t-1][v]['orientation']\n",
    "                        except:\n",
    "                            data[dataset_name][t][v]['orientation-1'] = None\n",
    "    return data"
   ]
  },
  {
   "cell_type": "code",
   "execution_count": 3,
   "metadata": {},
   "outputs": [
    {
     "name": "stderr",
     "output_type": "stream",
     "text": [
      "100%|██████████| 2925/2925 [00:00<00:00, 37025.54it/s]\n",
      "100%|██████████| 1/1 [00:00<00:00, 10.15it/s]\n"
     ]
    }
   ],
   "source": [
    "data = createDataset(0, 1)"
   ]
  },
  {
   "cell_type": "code",
   "execution_count": 4,
   "metadata": {},
   "outputs": [],
   "source": [
    "with open(f'openMindednessData.pickle', 'wb') as ofile:\n",
    "    pickle.dump(data, ofile)"
   ]
  },
  {
   "cell_type": "code",
   "execution_count": null,
   "metadata": {},
   "outputs": [],
   "source": []
  },
  {
   "cell_type": "code",
   "execution_count": null,
   "metadata": {},
   "outputs": [],
   "source": []
  }
 ],
 "metadata": {
  "@webio": {
   "lastCommId": null,
   "lastKernelId": null
  },
  "kernelspec": {
   "display_name": "Python 3 (ipykernel)",
   "language": "python",
   "name": "python3"
  },
  "language_info": {
   "codemirror_mode": {
    "name": "ipython",
    "version": 3
   },
   "file_extension": ".py",
   "mimetype": "text/x-python",
   "name": "python",
   "nbconvert_exporter": "python",
   "pygments_lexer": "ipython3",
   "version": "3.8.16"
  },
  "vscode": {
   "interpreter": {
    "hash": "0a54084e6b208ee8d1ce3989ffc20924477a5f55f5a43e22e699a6741623861e"
   }
  }
 },
 "nbformat": 4,
 "nbformat_minor": 4
}
